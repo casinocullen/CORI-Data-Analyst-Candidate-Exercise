{
 "cells": [
  {
   "cell_type": "code",
   "execution_count": 120,
   "metadata": {},
   "outputs": [],
   "source": [
    "import psycopg2\n",
    "import time\n",
    "import datetime\n",
    "import pandas as pd\n",
    "import sys\n",
    "from carto.auth import APIKeyAuthClient\n",
    "from geopandas import GeoDataFrame\n",
    "\n",
    "pd.set_option('display.max_columns', 100)"
   ]
  },
  {
   "cell_type": "markdown",
   "metadata": {},
   "source": [
    "# Export Data from PostGreSQL"
   ]
  },
  {
   "cell_type": "code",
   "execution_count": 238,
   "metadata": {},
   "outputs": [
    {
     "name": "stdout",
     "output_type": "stream",
     "text": [
      "I have successfully connected to the database\n",
      "Now extracting the data: 2019-02-23 23:24:15.319075\n",
      "End time is: 2019-02-23 23:24:18.117173\n",
      "Time to complete: 0.05\n"
     ]
    }
   ],
   "source": [
    "###Connect to local PostGreSQL account\n",
    "try:\n",
    "    connection = psycopg2.connect(database=\"postgres\",user=\"postgres\",password=\"1LOVEyou\")\n",
    "    print(\"I have successfully connected to the database\")\n",
    "except Exception as e:\n",
    "    print(\"I am unable to connect to the database:\" +str(e))\n",
    "\n",
    "    \n",
    "###Export broadband data from SQL\n",
    "try: \n",
    "    start_time = time.time()\n",
    "    cursor = connection.cursor()\n",
    "    print('Now extracting the data: ' + str(datetime.datetime.now()))\n",
    "    cmmd_ExtractData = \"SELECT * FROM broadband\"\n",
    "    cursor.execute(cmmd_ExtractData)\n",
    "    \n",
    "    rows = cursor.fetchall()\n",
    "   \n",
    "    print('End time is: ' + str(datetime.datetime.now()))\n",
    "    time_complete = round((time.time()-start_time)/60,2)\n",
    "    print('Time to complete: ' + str(time_complete))\n",
    "    \n",
    "\n",
    "    connection.commit()\n",
    "\n",
    "except Exception as e:\n",
    "    print(\"Error %s\" % e)\n",
    "\n",
    "###Disconnect\n",
    "finally:\n",
    "    if connection:\n",
    "        connection.close()"
   ]
  },
  {
   "cell_type": "markdown",
   "metadata": {},
   "source": [
    "# Process and Clean Data"
   ]
  },
  {
   "cell_type": "code",
   "execution_count": 239,
   "metadata": {},
   "outputs": [
    {
     "name": "stderr",
     "output_type": "stream",
     "text": [
      "/Users/chenchen/anaconda3/lib/python3.6/site-packages/geopandas/io/file.py:108: FionaDeprecationWarning: Use fiona.Env() instead.\n",
      "  with fiona.drivers():\n"
     ]
    }
   ],
   "source": [
    "### Convert broadband data to panda dataframe \n",
    "broadBandData = pd.DataFrame(rows, columns = ['LogRecNo','Provider_Id','FRN','ProviderName','DBAName','HoldingCompanyName','HocoNum','HocoFinal','StateAbbr','BlockCode','TechCode','Consumer','MaxAdDown','MaxAdUp','Business','MaxCIRDown','MaxCIRUp'])\n",
    "\n",
    "### Assign unique geoid to each county \n",
    "broadBandData['geoid'] = broadBandData['BlockCode'].astype(str).str[0:5]\n",
    "\n",
    "### Read the county shaphefile and subset Vermont and New Hampsire counties\n",
    "county = gpd.read_file('Shapefiles/gz_2010_us_050_00_5m.shp',crs=crs)\n",
    "county = county.loc[(county['STATE']==\"33\")|(county['STATE']==\"50\")]\n",
    "\n",
    "### Assign unique geoid to each county \n",
    "county['geoid'] = county['GEO_ID'].str[9:15]\n",
    "\n",
    "\n",
    "### Read the population shaphefile \n",
    "pop = pd.read_csv(\"./Data/co_est2017_alldata.csv\", encoding=\"cp1252\")\n",
    "### Assign unique geoid to each county\n",
    "pop['geoid'] = pop['STATE'].apply(lambda x: '{0:0=2}'.format(x)) + pop['COUNTY'].apply(lambda x: '{0:0=3}'.format(x))\n",
    "pop = pop[['STNAME','geoid','CENSUS2010POP','POPESTIMATE2017']]\n",
    "\n",
    "\n",
    "### Find the maximum advertised upload speeds in each county\n",
    "broadBandData_group = broadBandData.groupby(['geoid'], as_index=False)['MaxAdUp','ProviderName','HoldingCompanyName'].max()\n",
    "\n",
    "### Mergy maximum advertised upload speeds with county information\n",
    "broadBandData_group = pd.merge(broadBandData_group, county, how=\"left\", on=\"geoid\")\n",
    "### Mergy maximum advertised upload speeds with population information\n",
    "broadBandData_group = pd.merge(broadBandData_group, pop, how=\"left\", on=\"geoid\")\n",
    "\n",
    "### Delete unnecessary column\n",
    "del broadBandData_group['GEO_ID']\n",
    "\n",
    "### Find the weighted maximum advertised upload speeds by 2017 population\n",
    "broadBandData_group[\"weighted_maxadup\"] = broadBandData_group['MaxAdUp']*broadBandData_group[\"POPESTIMATE2017\"]/(broadBandData_group[\"POPESTIMATE2017\"].mean())\n",
    "\n",
    "### Export the gpkg file and ready to upload to CARTO\n",
    "geo_df = GeoDataFrame(broadBandData_group, crs = crs, geometry = broadBandData_group['geometry'])\n",
    "geo_df.to_file(\"./Result/broadBandData_county.gpkg\",driver=\"GPKG\")\n",
    "\n",
    "\n"
   ]
  }
 ],
 "metadata": {
  "kernelspec": {
   "display_name": "Python 3",
   "language": "python",
   "name": "python3"
  },
  "language_info": {
   "codemirror_mode": {
    "name": "ipython",
    "version": 3
   },
   "file_extension": ".py",
   "mimetype": "text/x-python",
   "name": "python",
   "nbconvert_exporter": "python",
   "pygments_lexer": "ipython3",
   "version": "3.6.6"
  }
 },
 "nbformat": 4,
 "nbformat_minor": 2
}
